{
 "cells": [
  {
   "cell_type": "code",
   "execution_count": 75,
   "metadata": {},
   "outputs": [],
   "source": [
    "import torch\n",
    "import torchvision\n",
    "from torch.utils.data import DataLoader, Dataset\n",
    "from torchvision import transforms\n",
    "from torch.autograd import Variable\n",
    "from torch import optim\n",
    "import torch.nn as nn\n",
    "import torch.nn.functional as F\n",
    "import os\n",
    "import cv2\n",
    "from PIL import Image\n",
    "from tqdm import tqdm_notebook as tqdm\n",
    "import random\n",
    "from matplotlib import pyplot as plt\n",
    "import torchvision.transforms as transforms\n",
    "import torchvision.models as models\n",
    "from torch.utils.data import Dataset, DataLoader\n",
    "import csv\n",
    "import pandas as pd\n",
    "import numpy as np\n",
    "\n",
    "device = torch.device(\"cuda:0\" if torch.cuda.is_available() else \"cpu\")"
   ]
  },
  {
   "cell_type": "code",
   "execution_count": 76,
   "metadata": {},
   "outputs": [],
   "source": [
    "from sklearn.model_selection import train_test_split\n",
    "from xgboost import XGBClassifier\n",
    "from sklearn.metrics import accuracy_score\n",
    "from sklearn.linear_model import LogisticRegression"
   ]
  },
  {
   "cell_type": "code",
   "execution_count": 77,
   "metadata": {},
   "outputs": [],
   "source": [
    "def model1(x):\n",
    "    PATH = '/Users/parkjeonghoon/Desktop/BITamin/project_data/resnet_model_cnn.pt'\n",
    "    Resnet = torch.load(PATH)\n",
    "    pred1 = Resnet(x)\n",
    "    pred1 = pred1.detach().numpy()\n",
    "    '''\n",
    "    if pred1 < 0:\n",
    "        pred1 = 0.0\n",
    "    \n",
    "    elif pred1 > 1:\n",
    "        pred1 = 1.0\n",
    "    '''\n",
    "    \n",
    "    return pred1"
   ]
  },
  {
   "cell_type": "code",
   "execution_count": 78,
   "metadata": {},
   "outputs": [],
   "source": [
    "def model2(x):    \n",
    "    delisting = pd.read_csv('/Users/parkjeonghoon/Desktop/BITamin/project_data/ratios/delisting_ratios.csv', dtype={'stock_code': str})\n",
    "    listing = pd.read_csv('/Users/parkjeonghoon/Desktop/BITamin/project_data/ratios/not_delisting_ratios.csv', dtype={'stock_code': str})\n",
    "\n",
    "    delisting.drop('Unnamed: 0',axis = 1,inplace=True)\n",
    "    listing.drop('Unnamed: 0' ,axis = 1, inplace=True)\n",
    "\n",
    "    #0,1라벨링\n",
    "    listing['label'] = 0\n",
    "    delisting['label'] = 1\n",
    "\n",
    "    delisting = delisting.fillna(0)\n",
    "    df =pd.concat([delisting, listing])\n",
    "    \n",
    "    train_columns = df.columns.difference(['stock_code','label'])\n",
    "    x_train, x_test, y_train, y_test = train_test_split(df[train_columns],df['label'],test_size=0.2, random_state=42)\n",
    "    model = LogisticRegression(random_state=42)\n",
    "    model.fit(x_train, y_train)\n",
    "\n",
    "    pred2 = model.predict(x)\n",
    "    \n",
    "    return pred2"
   ]
  },
  {
   "cell_type": "code",
   "execution_count": 79,
   "metadata": {},
   "outputs": [],
   "source": [
    "def tot_model(x1, x2):\n",
    "    w1, w2 = 0.5, 0.5\n",
    "    \n",
    "    p1 = model1(x1)\n",
    "    p2 = model2(x2)\n",
    "    \n",
    "    result = w1*p1 + w2*p2\n",
    "    return p1, p2, result"
   ]
  },
  {
   "cell_type": "code",
   "execution_count": 57,
   "metadata": {},
   "outputs": [
    {
     "ename": "FileNotFoundError",
     "evalue": "[Errno 2] No such file or directory: '...'",
     "output_type": "error",
     "traceback": [
      "\u001b[0;31m---------------------------------------------------------------------------\u001b[0m",
      "\u001b[0;31mFileNotFoundError\u001b[0m                         Traceback (most recent call last)",
      "Cell \u001b[0;32mIn[57], line 1\u001b[0m\n\u001b[0;32m----> 1\u001b[0m test_delisting \u001b[39m=\u001b[39m pd\u001b[39m.\u001b[39;49mread_csv(\u001b[39m'\u001b[39;49m\u001b[39m...\u001b[39;49m\u001b[39m'\u001b[39;49m, dtype\u001b[39m=\u001b[39;49m{\u001b[39m'\u001b[39;49m\u001b[39mstock_code\u001b[39;49m\u001b[39m'\u001b[39;49m: \u001b[39mstr\u001b[39;49m})\n\u001b[1;32m      2\u001b[0m test_listing \u001b[39m=\u001b[39m pd\u001b[39m.\u001b[39mread_csv(\u001b[39m'\u001b[39m\u001b[39m...\u001b[39m\u001b[39m'\u001b[39m, dtype\u001b[39m=\u001b[39m{\u001b[39m'\u001b[39m\u001b[39mstock_code\u001b[39m\u001b[39m'\u001b[39m: \u001b[39mstr\u001b[39m})\n\u001b[1;32m      4\u001b[0m test_delisting\u001b[39m.\u001b[39mdrop(\u001b[39m'\u001b[39m\u001b[39mUnnamed: 0\u001b[39m\u001b[39m'\u001b[39m,axis \u001b[39m=\u001b[39m \u001b[39m1\u001b[39m,inplace\u001b[39m=\u001b[39m\u001b[39mTrue\u001b[39;00m)\n",
      "File \u001b[0;32m~/miniconda3/envs/torch/lib/python3.10/site-packages/pandas/io/parsers/readers.py:912\u001b[0m, in \u001b[0;36mread_csv\u001b[0;34m(filepath_or_buffer, sep, delimiter, header, names, index_col, usecols, dtype, engine, converters, true_values, false_values, skipinitialspace, skiprows, skipfooter, nrows, na_values, keep_default_na, na_filter, verbose, skip_blank_lines, parse_dates, infer_datetime_format, keep_date_col, date_parser, date_format, dayfirst, cache_dates, iterator, chunksize, compression, thousands, decimal, lineterminator, quotechar, quoting, doublequote, escapechar, comment, encoding, encoding_errors, dialect, on_bad_lines, delim_whitespace, low_memory, memory_map, float_precision, storage_options, dtype_backend)\u001b[0m\n\u001b[1;32m    899\u001b[0m kwds_defaults \u001b[39m=\u001b[39m _refine_defaults_read(\n\u001b[1;32m    900\u001b[0m     dialect,\n\u001b[1;32m    901\u001b[0m     delimiter,\n\u001b[0;32m   (...)\u001b[0m\n\u001b[1;32m    908\u001b[0m     dtype_backend\u001b[39m=\u001b[39mdtype_backend,\n\u001b[1;32m    909\u001b[0m )\n\u001b[1;32m    910\u001b[0m kwds\u001b[39m.\u001b[39mupdate(kwds_defaults)\n\u001b[0;32m--> 912\u001b[0m \u001b[39mreturn\u001b[39;00m _read(filepath_or_buffer, kwds)\n",
      "File \u001b[0;32m~/miniconda3/envs/torch/lib/python3.10/site-packages/pandas/io/parsers/readers.py:577\u001b[0m, in \u001b[0;36m_read\u001b[0;34m(filepath_or_buffer, kwds)\u001b[0m\n\u001b[1;32m    574\u001b[0m _validate_names(kwds\u001b[39m.\u001b[39mget(\u001b[39m\"\u001b[39m\u001b[39mnames\u001b[39m\u001b[39m\"\u001b[39m, \u001b[39mNone\u001b[39;00m))\n\u001b[1;32m    576\u001b[0m \u001b[39m# Create the parser.\u001b[39;00m\n\u001b[0;32m--> 577\u001b[0m parser \u001b[39m=\u001b[39m TextFileReader(filepath_or_buffer, \u001b[39m*\u001b[39;49m\u001b[39m*\u001b[39;49mkwds)\n\u001b[1;32m    579\u001b[0m \u001b[39mif\u001b[39;00m chunksize \u001b[39mor\u001b[39;00m iterator:\n\u001b[1;32m    580\u001b[0m     \u001b[39mreturn\u001b[39;00m parser\n",
      "File \u001b[0;32m~/miniconda3/envs/torch/lib/python3.10/site-packages/pandas/io/parsers/readers.py:1407\u001b[0m, in \u001b[0;36mTextFileReader.__init__\u001b[0;34m(self, f, engine, **kwds)\u001b[0m\n\u001b[1;32m   1404\u001b[0m     \u001b[39mself\u001b[39m\u001b[39m.\u001b[39moptions[\u001b[39m\"\u001b[39m\u001b[39mhas_index_names\u001b[39m\u001b[39m\"\u001b[39m] \u001b[39m=\u001b[39m kwds[\u001b[39m\"\u001b[39m\u001b[39mhas_index_names\u001b[39m\u001b[39m\"\u001b[39m]\n\u001b[1;32m   1406\u001b[0m \u001b[39mself\u001b[39m\u001b[39m.\u001b[39mhandles: IOHandles \u001b[39m|\u001b[39m \u001b[39mNone\u001b[39;00m \u001b[39m=\u001b[39m \u001b[39mNone\u001b[39;00m\n\u001b[0;32m-> 1407\u001b[0m \u001b[39mself\u001b[39m\u001b[39m.\u001b[39m_engine \u001b[39m=\u001b[39m \u001b[39mself\u001b[39;49m\u001b[39m.\u001b[39;49m_make_engine(f, \u001b[39mself\u001b[39;49m\u001b[39m.\u001b[39;49mengine)\n",
      "File \u001b[0;32m~/miniconda3/envs/torch/lib/python3.10/site-packages/pandas/io/parsers/readers.py:1661\u001b[0m, in \u001b[0;36mTextFileReader._make_engine\u001b[0;34m(self, f, engine)\u001b[0m\n\u001b[1;32m   1659\u001b[0m     \u001b[39mif\u001b[39;00m \u001b[39m\"\u001b[39m\u001b[39mb\u001b[39m\u001b[39m\"\u001b[39m \u001b[39mnot\u001b[39;00m \u001b[39min\u001b[39;00m mode:\n\u001b[1;32m   1660\u001b[0m         mode \u001b[39m+\u001b[39m\u001b[39m=\u001b[39m \u001b[39m\"\u001b[39m\u001b[39mb\u001b[39m\u001b[39m\"\u001b[39m\n\u001b[0;32m-> 1661\u001b[0m \u001b[39mself\u001b[39m\u001b[39m.\u001b[39mhandles \u001b[39m=\u001b[39m get_handle(\n\u001b[1;32m   1662\u001b[0m     f,\n\u001b[1;32m   1663\u001b[0m     mode,\n\u001b[1;32m   1664\u001b[0m     encoding\u001b[39m=\u001b[39;49m\u001b[39mself\u001b[39;49m\u001b[39m.\u001b[39;49moptions\u001b[39m.\u001b[39;49mget(\u001b[39m\"\u001b[39;49m\u001b[39mencoding\u001b[39;49m\u001b[39m\"\u001b[39;49m, \u001b[39mNone\u001b[39;49;00m),\n\u001b[1;32m   1665\u001b[0m     compression\u001b[39m=\u001b[39;49m\u001b[39mself\u001b[39;49m\u001b[39m.\u001b[39;49moptions\u001b[39m.\u001b[39;49mget(\u001b[39m\"\u001b[39;49m\u001b[39mcompression\u001b[39;49m\u001b[39m\"\u001b[39;49m, \u001b[39mNone\u001b[39;49;00m),\n\u001b[1;32m   1666\u001b[0m     memory_map\u001b[39m=\u001b[39;49m\u001b[39mself\u001b[39;49m\u001b[39m.\u001b[39;49moptions\u001b[39m.\u001b[39;49mget(\u001b[39m\"\u001b[39;49m\u001b[39mmemory_map\u001b[39;49m\u001b[39m\"\u001b[39;49m, \u001b[39mFalse\u001b[39;49;00m),\n\u001b[1;32m   1667\u001b[0m     is_text\u001b[39m=\u001b[39;49mis_text,\n\u001b[1;32m   1668\u001b[0m     errors\u001b[39m=\u001b[39;49m\u001b[39mself\u001b[39;49m\u001b[39m.\u001b[39;49moptions\u001b[39m.\u001b[39;49mget(\u001b[39m\"\u001b[39;49m\u001b[39mencoding_errors\u001b[39;49m\u001b[39m\"\u001b[39;49m, \u001b[39m\"\u001b[39;49m\u001b[39mstrict\u001b[39;49m\u001b[39m\"\u001b[39;49m),\n\u001b[1;32m   1669\u001b[0m     storage_options\u001b[39m=\u001b[39;49m\u001b[39mself\u001b[39;49m\u001b[39m.\u001b[39;49moptions\u001b[39m.\u001b[39;49mget(\u001b[39m\"\u001b[39;49m\u001b[39mstorage_options\u001b[39;49m\u001b[39m\"\u001b[39;49m, \u001b[39mNone\u001b[39;49;00m),\n\u001b[1;32m   1670\u001b[0m )\n\u001b[1;32m   1671\u001b[0m \u001b[39massert\u001b[39;00m \u001b[39mself\u001b[39m\u001b[39m.\u001b[39mhandles \u001b[39mis\u001b[39;00m \u001b[39mnot\u001b[39;00m \u001b[39mNone\u001b[39;00m\n\u001b[1;32m   1672\u001b[0m f \u001b[39m=\u001b[39m \u001b[39mself\u001b[39m\u001b[39m.\u001b[39mhandles\u001b[39m.\u001b[39mhandle\n",
      "File \u001b[0;32m~/miniconda3/envs/torch/lib/python3.10/site-packages/pandas/io/common.py:859\u001b[0m, in \u001b[0;36mget_handle\u001b[0;34m(path_or_buf, mode, encoding, compression, memory_map, is_text, errors, storage_options)\u001b[0m\n\u001b[1;32m    854\u001b[0m \u001b[39melif\u001b[39;00m \u001b[39misinstance\u001b[39m(handle, \u001b[39mstr\u001b[39m):\n\u001b[1;32m    855\u001b[0m     \u001b[39m# Check whether the filename is to be opened in binary mode.\u001b[39;00m\n\u001b[1;32m    856\u001b[0m     \u001b[39m# Binary mode does not support 'encoding' and 'newline'.\u001b[39;00m\n\u001b[1;32m    857\u001b[0m     \u001b[39mif\u001b[39;00m ioargs\u001b[39m.\u001b[39mencoding \u001b[39mand\u001b[39;00m \u001b[39m\"\u001b[39m\u001b[39mb\u001b[39m\u001b[39m\"\u001b[39m \u001b[39mnot\u001b[39;00m \u001b[39min\u001b[39;00m ioargs\u001b[39m.\u001b[39mmode:\n\u001b[1;32m    858\u001b[0m         \u001b[39m# Encoding\u001b[39;00m\n\u001b[0;32m--> 859\u001b[0m         handle \u001b[39m=\u001b[39m \u001b[39mopen\u001b[39;49m(\n\u001b[1;32m    860\u001b[0m             handle,\n\u001b[1;32m    861\u001b[0m             ioargs\u001b[39m.\u001b[39;49mmode,\n\u001b[1;32m    862\u001b[0m             encoding\u001b[39m=\u001b[39;49mioargs\u001b[39m.\u001b[39;49mencoding,\n\u001b[1;32m    863\u001b[0m             errors\u001b[39m=\u001b[39;49merrors,\n\u001b[1;32m    864\u001b[0m             newline\u001b[39m=\u001b[39;49m\u001b[39m\"\u001b[39;49m\u001b[39m\"\u001b[39;49m,\n\u001b[1;32m    865\u001b[0m         )\n\u001b[1;32m    866\u001b[0m     \u001b[39melse\u001b[39;00m:\n\u001b[1;32m    867\u001b[0m         \u001b[39m# Binary mode\u001b[39;00m\n\u001b[1;32m    868\u001b[0m         handle \u001b[39m=\u001b[39m \u001b[39mopen\u001b[39m(handle, ioargs\u001b[39m.\u001b[39mmode)\n",
      "\u001b[0;31mFileNotFoundError\u001b[0m: [Errno 2] No such file or directory: '...'"
     ]
    }
   ],
   "source": [
    "test_delisting = pd.read_csv('...', dtype={'stock_code': str})\n",
    "test_listing = pd.read_csv('...', dtype={'stock_code': str})\n",
    "\n",
    "test_delisting.drop('Unnamed: 0',axis = 1,inplace=True)\n",
    "test_listing.drop('Unnamed: 0' ,axis = 1, inplace=True)"
   ]
  },
  {
   "cell_type": "code",
   "execution_count": 81,
   "metadata": {},
   "outputs": [],
   "source": [
    "class CustomDataset(Dataset):\n",
    "    def __init__(self, data_list, transform=None):\n",
    "        self.data_list = data_list\n",
    "\n",
    "    def __len__(self):\n",
    "        return len(self.data_list)\n",
    "\n",
    "    def __getitem__(self, idx):\n",
    "        data = self.data_list[idx]\n",
    "        graph = data['graph']\n",
    "        label = data['label']\n",
    "        code = data['code']\n",
    "\n",
    "        return code, graph, label"
   ]
  },
  {
   "cell_type": "code",
   "execution_count": 82,
   "metadata": {},
   "outputs": [
    {
     "name": "stdout",
     "output_type": "stream",
     "text": [
      "251960\n",
      "/Users/parkjeonghoon/Desktop/BITamin/project_data/model_test_pt/251960.pt\n",
      "271780\n",
      "/Users/parkjeonghoon/Desktop/BITamin/project_data/model_test_pt/271780.pt\n",
      "204990\n",
      "/Users/parkjeonghoon/Desktop/BITamin/project_data/model_test_pt/204990.pt\n",
      "152330\n",
      "/Users/parkjeonghoon/Desktop/BITamin/project_data/model_test_pt/152330.pt\n",
      "4\n"
     ]
    }
   ],
   "source": [
    "dic_path = '/Users/parkjeonghoon/Desktop/BITamin/project_data/model_test_pt'\n",
    "test_list = os.listdir(dic_path)\n",
    "test_list = [filename.split('.')[0] for filename in test_list]\n",
    "\n",
    "# 데이터 파일들의 경로 리스트 (각 회사별 데이터 경로)\n",
    "test_files = []\n",
    "\n",
    "for code_t in test_list:\n",
    "    test_files.append(f'{code_t}')\n",
    "\n",
    "# 데이터를 저장할 리스트\n",
    "test_dataset = []\n",
    "\n",
    "delisting = pd.read_csv('/Users/parkjeonghoon/Desktop/BITamin/project_data/test_fs/delisting_ratio_test.csv', dtype={'stock_code': str})\n",
    "# listing = pd.read_csv('/Users/parkjeonghoon/Desktop/BITamin/project_data/ratios/not_delisting_ratios.csv', dtype={'stock_code': str})\n",
    "\n",
    "delisting.drop('Unnamed: 0',axis = 1,inplace=True)\n",
    "# listing.drop('Unnamed: 0' ,axis = 1, inplace=True)\n",
    "\n",
    "#0,1라벨링\n",
    "# listing['label'] = 0\n",
    "# delisting['label'] = 1\n",
    "\n",
    "delisting = delisting.fillna(0)\n",
    "# df =pd.concat([delisting, listing])\n",
    "\n",
    "# 각 데이터 파일을 로드하여 데이터셋에 추가\n",
    "for test_code in test_files:\n",
    "    file_test_path = f'/Users/parkjeonghoon/Desktop/BITamin/project_data/model_test_pt/{test_code}.pt'\n",
    "    print(test_code)\n",
    "    print(file_test_path)\n",
    "    test = torch.load(file_test_path)  # .pt 파일 로드\n",
    "    test['code'] = f'{test_code}'\n",
    "    test_dataset.append(test)\n",
    "\n",
    "print(len(test_files))\n",
    "# CustomDataset 클래스를 사용하여 데이터셋 생성\n",
    "test_set = CustomDataset(test_dataset)\n",
    "\n",
    "# 데이터로더 생성\n",
    "batch_size = 1\n",
    "test_loader = DataLoader(test_set, batch_size= batch_size, shuffle=False)"
   ]
  },
  {
   "cell_type": "code",
   "execution_count": 83,
   "metadata": {},
   "outputs": [
    {
     "name": "stdout",
     "output_type": "stream",
     "text": [
      "[[-0.69537526]] [0] [[-0.34768763]]\n",
      "[[-0.7295942]] [0] [[-0.36479709]]\n",
      "[[-0.67081994]] [1] [[0.16459003]]\n",
      "[[-0.7877577]] [0] [[-0.39387885]]\n"
     ]
    }
   ],
   "source": [
    "for batch, data in enumerate(test_loader):\n",
    "    code, graph, label = data\n",
    "    df = delisting[delisting['stock_code'].isin([code][0])]\n",
    "    data_f = df.columns.difference(['stock_code','label'])\n",
    "    graph = Variable(graph.view(1, 3, 480, 640))\n",
    "    label = Variable(label)\n",
    "    p1, p2, result = tot_model(graph, df[data_f])\n",
    "    print(p1, p2, result)"
   ]
  }
 ],
 "metadata": {
  "kernelspec": {
   "display_name": "torch",
   "language": "python",
   "name": "python3"
  },
  "language_info": {
   "codemirror_mode": {
    "name": "ipython",
    "version": 3
   },
   "file_extension": ".py",
   "mimetype": "text/x-python",
   "name": "python",
   "nbconvert_exporter": "python",
   "pygments_lexer": "ipython3",
   "version": "3.10.11"
  },
  "orig_nbformat": 4
 },
 "nbformat": 4,
 "nbformat_minor": 2
}
